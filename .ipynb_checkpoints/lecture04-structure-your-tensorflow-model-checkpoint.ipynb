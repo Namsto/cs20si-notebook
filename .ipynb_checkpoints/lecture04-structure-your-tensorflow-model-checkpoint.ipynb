{
 "cells": [
  {
   "cell_type": "code",
   "execution_count": 2,
   "metadata": {
    "collapsed": true
   },
   "outputs": [],
   "source": [
    "import numpy as np\n",
    "import pandas as pd\n",
    "import tensorflow as tf"
   ]
  },
  {
   "cell_type": "code",
   "execution_count": 5,
   "metadata": {
    "collapsed": true
   },
   "outputs": [],
   "source": [
    "BATCH_SIZE = None\n",
    "VOCAB_SIZE = None\n",
    "EMBED_SIZE = None"
   ]
  },
  {
   "cell_type": "markdown",
   "metadata": {},
   "source": [
    "## [CS20SI-Lecture 4: Structure your Tensorflow model](http://web.stanford.edu/class/cs20si/lectures/notes_04.pdf)"
   ]
  },
  {
   "cell_type": "markdown",
   "metadata": {},
   "source": [
    "### Interface: How to structure your TensorFlow model  \n",
    "We’ve done only 2 models in the past, and they more or less have the same structure:  \n",
    "**Phase 1: assemble your graph**\n",
    "1. Define placeholders for input and output\n",
    "2. Define the weights\n",
    "3. Define the inference model\n",
    "4. Define loss function\n",
    "5. Define optimizer\n",
    "\n",
    "**Phase 2: execute the computation**  \n",
    "Which is basically training your model. There are a few steps:\n",
    "1. Initialize all model variables for the first time.\n",
    "2. Feed in the training data. Might involve randomizing the order of data samples.\n",
    "3. Execute the inference model on the training data, so it calculates for each training input\n",
    "example the output with the current model parameters.\n",
    "4. Compute the cost\n",
    "5. Adjust the model parameters to minimize/maximize the cost depending on the model"
   ]
  },
  {
   "cell_type": "code",
   "execution_count": null,
   "metadata": {
    "collapsed": true
   },
   "outputs": [],
   "source": [
    "center_words = tf.placeholder(tf.int32, shape=[BATCH_SIZE])\n",
    "target_words = tf.placeholder(tf.int32, shape=[BATCH_SIZE])\n",
    "\n",
    "embed_matrix = tf.Variable(tf.random_uniform(shape=[VOCAB_SIZE, EMBED_SIZE], minval=-1.0, maxval==1.0))\n",
    "\n",
    "tf.nn.embedding_lookup(params, ids, partition_strategy='mod', name=None, validate_indices=True, max_norm=None)\n",
    "\n",
    "embed = tf.nn.embedding_lookup(embed_matrix, center_words)\n",
    "\n",
    "tf.nn.nce_loss(weights, biases, labels, inputs, num_sampled, num_classes, num_true=1,\n",
    "              sampled_values=None, remove_accidental_hits=False, partition_strategy='mod', name='nce_loss')\n",
    "\n",
    "\n",
    "nce_weight = tf.Variable(tf.truncated_normal([VOCAB_SIZE, EMBED_SIZE], stddev=1.0/EMBED_SIZE**0.5))\n",
    "nce_bias   = tf.Variable(tf.zeros([VOCAB_SIZE]))\n",
    "\n",
    "\n",
    "loss = tf.reduce_mean(tf.nn.nce_loss(weights=nce_weight,\n",
    "                                    biases=nce_bias,\n",
    "                                    labels=target_words,\n",
    "                                    inputs=embed,\n",
    "                                    num_sampled=NUM_SAMPLED,\n",
    "                                    num_classes=VOCAB_SIZE))\n",
    "\n",
    "optimizer = tf.train.GradientDescentOptimizer(LEARNING_RATE).minimize(loss)\n",
    "\n",
    "with tf.Session() as sess:\n",
    "    sess.run(tf.global_variables_initializer())\n",
    "    \n",
    "    average_loss = 0.0\n",
    "    for index in xrange(NUM_TRAIN_STEPS):\n",
    "        batch = batch_gen.next()\n",
    "        loss_batch, _ = sess.run([loss, optimizer],\n",
    "                                feed_dict={center_words: batch[0], target_words: batch[1]})\n",
    "        \n",
    "        average_loss += loss_batch\n",
    "        if (index + 1) % 2000 == 0:\n",
    "            print('Average loss at step {}: {:5.0f}'.format(index + 1, average_loss / (index + 1)))"
   ]
  }
 ],
 "metadata": {
  "kernelspec": {
   "display_name": "Python 3",
   "language": "python",
   "name": "python3"
  },
  "language_info": {
   "codemirror_mode": {
    "name": "ipython",
    "version": 3
   },
   "file_extension": ".py",
   "mimetype": "text/x-python",
   "name": "python",
   "nbconvert_exporter": "python",
   "pygments_lexer": "ipython3",
   "version": "3.5.3"
  }
 },
 "nbformat": 4,
 "nbformat_minor": 2
}
